{
  "nbformat": 4,
  "nbformat_minor": 0,
  "metadata": {
    "colab": {
      "provenance": [],
      "authorship_tag": "ABX9TyP5fle8HOF8Vw7WWr0asr+o",
      "include_colab_link": true
    },
    "kernelspec": {
      "name": "python3",
      "display_name": "Python 3"
    },
    "language_info": {
      "name": "python"
    }
  },
  "cells": [
    {
      "cell_type": "markdown",
      "metadata": {
        "id": "view-in-github",
        "colab_type": "text"
      },
      "source": [
        "<a href=\"https://colab.research.google.com/github/KassandraFerreira/Colab_Examples/blob/main/object_orienting_examples.ipynb\" target=\"_parent\"><img src=\"https://colab.research.google.com/assets/colab-badge.svg\" alt=\"Open In Colab\"/></a>"
      ]
    },
    {
      "cell_type": "code",
      "execution_count": null,
      "metadata": {
        "id": "bxXgL1RBpbsy"
      },
      "outputs": [],
      "source": [
        "class Vehicle:\n",
        "  # This is the constructor method; needed to initializee the attributes of each object\n",
        "  def __init__(self, speed, nav_system, propulsion, weight, dims):\n",
        "    self.speed = speed # this is now an attribute of class Vehicle\n",
        "    self.nav_system = nav_system\n",
        "    self.propulsion = propulsion\n",
        "    self.weight = weight\n",
        "    self.dims = dims"
      ]
    },
    {
      "cell_type": "code",
      "source": [
        "class Point:\n",
        "  def __init__(self, x, y):\n",
        "    self.x = x\n",
        "    self.y = y\n",
        "  def distance(self, other):\n",
        "    x_diff = (self.x - other.x) ** 2\n",
        "    y_diff = (self.y - other.y) ** 2\n",
        "    return(x_diff + y_diff) ** 0.5\n",
        "\n",
        "class Point3D(Point):\n",
        "  def __init__(self, x, y, z):\n",
        "    super().__init__(x, y)\n",
        "    self.z = z\n",
        "  def distance(self, other):\n",
        "    x_diff = (self.x - other.x) ** 2\n",
        "    y_diff = (self.y - other.y) ** 2\n",
        "    z_diff = (self.z - other.z) ** 2\n",
        "    return(x_diff + y_diff + z_diff) ** 0.5\n",
        "\n",
        "p1 = Point(3,4)\n",
        "p2 = Point(6,8)\n",
        "print(p1.distance(p2))\n",
        "p3d_1 = Point3D(1, 2, 3)\n",
        "p3d_2 = Point3D(4, 5, 6)\n",
        "print(p3d_2.distance(p3d_1))"
      ],
      "metadata": {
        "colab": {
          "base_uri": "https://localhost:8080/"
        },
        "id": "DRH6YPhM7IfR",
        "outputId": "af3cfbc9-6545-41a8-d336-4e3b77eadf76"
      },
      "execution_count": 15,
      "outputs": [
        {
          "output_type": "stream",
          "name": "stdout",
          "text": [
            "5.0\n",
            "5.196152422706632\n"
          ]
        }
      ]
    },
    {
      "cell_type": "code",
      "source": [
        "class Animal:\n",
        "  def __init__(self, legs):\n",
        "    print(\"Animal created\")\n",
        "    self.legs = legs\n",
        "  def whoAmI(self):\n",
        "    print(\"I am an animal\")\n",
        "\n",
        "class Bird(Animal):\n",
        "  def __init__(self, legs, wings):\n",
        "    print(\"Bird created\")\n",
        "    super().__init__(legs)\n",
        "    self.wings = wings\n",
        "  def fly(self):\n",
        "    print(\"Birds can fly\")\n",
        "\n",
        "\n",
        "a = Animal(4)\n",
        "b = Bird(2, 2)\n"
      ],
      "metadata": {
        "colab": {
          "base_uri": "https://localhost:8080/"
        },
        "id": "u6BYkaSe-ex2",
        "outputId": "e030a5f8-5160-44a1-f156-be80591706d0"
      },
      "execution_count": 13,
      "outputs": [
        {
          "output_type": "stream",
          "name": "stdout",
          "text": [
            "Animal created\n",
            "Bird created\n",
            "Animal created\n"
          ]
        }
      ]
    }
  ]
}