{
  "nbformat": 4,
  "nbformat_minor": 0,
  "metadata": {
    "colab": {
      "provenance": [],
      "authorship_tag": "ABX9TyMxcYPZSOLDlkn8ukEncVi3",
      "include_colab_link": true
    },
    "kernelspec": {
      "name": "python3",
      "display_name": "Python 3"
    },
    "language_info": {
      "name": "python"
    }
  },
  "cells": [
    {
      "cell_type": "markdown",
      "metadata": {
        "id": "view-in-github",
        "colab_type": "text"
      },
      "source": [
        "<a href=\"https://colab.research.google.com/github/KassandraFerreira/Colab_Examples/blob/main/slicing_practice.ipynb\" target=\"_parent\"><img src=\"https://colab.research.google.com/assets/colab-badge.svg\" alt=\"Open In Colab\"/></a>"
      ]
    },
    {
      "cell_type": "code",
      "execution_count": 7,
      "metadata": {
        "colab": {
          "base_uri": "https://localhost:8080/"
        },
        "id": "c86SAOYrwhsL",
        "outputId": "14c35531-c93c-4f5f-a338-154a8e620eb7"
      },
      "outputs": [
        {
          "output_type": "stream",
          "name": "stdout",
          "text": [
            "Enter Date as MM/DD/YYYY: 01/25/2003\n",
            "01\n",
            "25\n",
            "2003\n"
          ]
        }
      ],
      "source": [
        "s = input(\"Enter Date as MM/DD/YYYY: \")\n",
        "Month_s = s[0:2]\n",
        "print(Month_s)\n",
        "Day_s = s[3:5]\n",
        "print(Day_s)\n",
        "Year_s = s[-4:]\n",
        "print(Year_s)"
      ]
    }
  ]
}