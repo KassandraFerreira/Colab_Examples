{
  "nbformat": 4,
  "nbformat_minor": 0,
  "metadata": {
    "colab": {
      "provenance": [],
      "authorship_tag": "ABX9TyNWggT1x/QKegbXn4vUNIb2",
      "include_colab_link": true
    },
    "kernelspec": {
      "name": "python3",
      "display_name": "Python 3"
    },
    "language_info": {
      "name": "python"
    }
  },
  "cells": [
    {
      "cell_type": "markdown",
      "metadata": {
        "id": "view-in-github",
        "colab_type": "text"
      },
      "source": [
        "<a href=\"https://colab.research.google.com/github/KassandraFerreira/Colab_Examples/blob/main/appended_list.ipynb\" target=\"_parent\"><img src=\"https://colab.research.google.com/assets/colab-badge.svg\" alt=\"Open In Colab\"/></a>"
      ]
    },
    {
      "cell_type": "code",
      "execution_count": null,
      "metadata": {
        "colab": {
          "base_uri": "https://localhost:8080/"
        },
        "id": "ECBeZgnbz_Ca",
        "outputId": "5dc1c30a-ca54-4155-c521-bc887136d67b"
      },
      "outputs": [
        {
          "output_type": "stream",
          "name": "stdout",
          "text": [
            "Enter a value: 3\n",
            "Enter a value: 4\n",
            "[3]\n",
            "Enter a value: 5\n",
            "[3, 4]\n",
            "Enter a value: 6\n",
            "[3, 4, 5]\n",
            "Enter a value: 7\n",
            "[3, 4, 5, 6]\n",
            "Enter a value: 8\n",
            "[3, 4, 5, 6, 7]\n",
            "Enter a value: 9\n",
            "[3, 4, 5, 6, 7, 8]\n"
          ]
        }
      ],
      "source": [
        "L = []\n",
        "number = int(input(\"Enter a value: \"))\n",
        "\n",
        "while number !=0:\n",
        "  L.append(number)\n",
        "  number = int(input(\"Enter a value: \"))\n",
        "  print(L)\n"
      ]
    }
  ]
}