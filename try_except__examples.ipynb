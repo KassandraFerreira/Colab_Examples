{
  "nbformat": 4,
  "nbformat_minor": 0,
  "metadata": {
    "colab": {
      "provenance": [],
      "authorship_tag": "ABX9TyNvZJqQWdP01NAUHZaO/AOI",
      "include_colab_link": true
    },
    "kernelspec": {
      "name": "python3",
      "display_name": "Python 3"
    },
    "language_info": {
      "name": "python"
    }
  },
  "cells": [
    {
      "cell_type": "markdown",
      "metadata": {
        "id": "view-in-github",
        "colab_type": "text"
      },
      "source": [
        "<a href=\"https://colab.research.google.com/github/KassandraFerreira/Colab_Examples/blob/main/try_except__examples.ipynb\" target=\"_parent\"><img src=\"https://colab.research.google.com/assets/colab-badge.svg\" alt=\"Open In Colab\"/></a>"
      ]
    },
    {
      "cell_type": "code",
      "source": [
        "try:\n",
        "  a = float(input(\"Enter the numerator: \"))\n",
        "  b = float(input(\"Enter the denominator: \"))\n",
        "  print(a/b)\n",
        "  print(\"Division complete\")\n",
        "except ZeroDivisionError:\n",
        "  print(\"Division by zero not allowed!\")\n",
        "except ValueError:\n",
        "  print(\"Invalid input!\")\n",
        "except:\n",
        "  print(\"Unknown error...\")\n",
        "\n",
        "print(\"Program ends\")"
      ],
      "metadata": {
        "colab": {
          "base_uri": "https://localhost:8080/"
        },
        "id": "7UVZ0dkR1VDQ",
        "outputId": "386d3ebc-9e4f-48ad-b094-3bfa0cff41f5"
      },
      "execution_count": 6,
      "outputs": [
        {
          "output_type": "stream",
          "name": "stdout",
          "text": [
            "Enter the numerator: abc\n",
            "Invalid input!\n",
            "Program ends\n"
          ]
        }
      ]
    },
    {
      "cell_type": "code",
      "execution_count": 25,
      "metadata": {
        "colab": {
          "base_uri": "https://localhost:8080/"
        },
        "id": "tok7zS2X0aSj",
        "outputId": "1d3bcee2-6b95-47d2-9d99-631a6b72d5ed"
      },
      "outputs": [
        {
          "output_type": "stream",
          "name": "stdout",
          "text": [
            "Enter index: 4\n",
            "9\n",
            "All good!\n",
            "This will be displayed always\n"
          ]
        }
      ],
      "source": [
        "l = [1,3,5,7,9]\n",
        "try:\n",
        "  idx = int(input(\"Enter index: \"))\n",
        "  print(l[idx])\n",
        "except IndexError:\n",
        "  print(\"Index value out of bounds! \")\n",
        "except TypeError:\n",
        "  print(\"Indexes must be int\")\n",
        "else:\n",
        "  print(\"All good!\")\n",
        "finally:\n",
        "  print(\"This will be displayed always\")"
      ]
    },
    {
      "cell_type": "code",
      "source": [
        "def avg(alist):\n",
        "  try:\n",
        "    return sum(alist) / len(alist)\n",
        "  except ZeroDivisionError:\n",
        "    print(\"The list is empty!\")\n",
        "    return[]\n",
        "  except TypeError:\n",
        "    print(\"The list has to be numeric only!\")\n",
        "    return float(\"nan\")\n",
        "\n",
        "avg([1,2,3])"
      ],
      "metadata": {
        "colab": {
          "base_uri": "https://localhost:8080/"
        },
        "id": "KDyw5bL12XKn",
        "outputId": "d8b90bc9-7231-444f-dfed-689c085be9b1"
      },
      "execution_count": 20,
      "outputs": [
        {
          "output_type": "execute_result",
          "data": {
            "text/plain": [
              "2.0"
            ]
          },
          "metadata": {},
          "execution_count": 20
        }
      ]
    }
  ]
}