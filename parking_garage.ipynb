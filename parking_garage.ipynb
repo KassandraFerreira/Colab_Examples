{
  "nbformat": 4,
  "nbformat_minor": 0,
  "metadata": {
    "colab": {
      "provenance": [],
      "authorship_tag": "ABX9TyPxsnfU9i9yvBvI7VKqpxtW",
      "include_colab_link": true
    },
    "kernelspec": {
      "name": "python3",
      "display_name": "Python 3"
    },
    "language_info": {
      "name": "python"
    }
  },
  "cells": [
    {
      "cell_type": "markdown",
      "metadata": {
        "id": "view-in-github",
        "colab_type": "text"
      },
      "source": [
        "<a href=\"https://colab.research.google.com/github/KassandraFerreira/Colab_Examples/blob/main/parking_garage.ipynb\" target=\"_parent\"><img src=\"https://colab.research.google.com/assets/colab-badge.svg\" alt=\"Open In Colab\"/></a>"
      ]
    },
    {
      "cell_type": "code",
      "execution_count": 2,
      "metadata": {
        "colab": {
          "base_uri": "https://localhost:8080/"
        },
        "id": "7_YkQ1FcVybM",
        "outputId": "0edf90b9-15a2-45b5-bf71-a07a416ca45b"
      },
      "outputs": [
        {
          "name": "stdout",
          "output_type": "stream",
          "text": [
            "Enter number of hours parked: 8\n",
            "20\n",
            "Enter your name: kass\n",
            "Enter customer type (n: new, e: existing): n\n",
            "Enter depoit amount (in $): 20\n"
          ]
        }
      ],
      "source": [
        "hours = int(input(\"Enter number of hours parked: \"))\n",
        "fee = 2.5 * hours\n",
        "if fee <= 6:\n",
        "  print(6)\n",
        "elif fee >= 20:\n",
        "  print(20)\n",
        "else:\n",
        "  print(fee)\n",
        "\n",
        "name = input(\"Enter your name: \")\n",
        "customer_type = input(\"Enter customer type (n: new, e: existing): \")\n",
        "deposit = float(input(\"Enter depoit amount (in $): \"))"
      ]
    }
  ]
}